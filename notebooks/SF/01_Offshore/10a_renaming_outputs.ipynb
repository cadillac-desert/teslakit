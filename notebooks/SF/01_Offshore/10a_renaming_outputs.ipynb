{
 "cells": [
  {
   "cell_type": "markdown",
   "metadata": {},
   "source": [
    "This notebook renames the outputs from Notebook 10, to be in the expected file paths as required by Notebook 11 and beyond."
   ]
  },
  {
   "cell_type": "code",
   "execution_count": 1,
   "metadata": {},
   "outputs": [],
   "source": [
    "# common\n",
    "import os\n",
    "import os.path as op\n",
    "\n",
    "# for input configuration\n",
    "import sys\n",
    "sys.path.append('../../..')  # Appending parent directory to Python path\n",
    "from input_configuration import *\n",
    "\n",
    "# DEV: override installed teslakit\n",
    "import sys\n",
    "sys.path.insert(0, op.join(os.path.abspath(''), '..', '..', '..'))\n",
    "\n",
    "# teslakit \n",
    "from teslakit.database import Database\n",
    "\n",
    "# import path \n",
    "p_data = p_data_input\n",
    "db = Database(p_data)\n"
   ]
  },
  {
   "cell_type": "markdown",
   "metadata": {},
   "source": [
    "# Adjust file names for .nc files in \"sites\\site_name\\ESTELA\\pred_SLP\""
   ]
  },
  {
   "cell_type": "code",
   "execution_count": 2,
   "metadata": {},
   "outputs": [],
   "source": [
    "def Rename_Data_File(new_file_path, old_file_path):\n",
    "    # Check if the old file exists and remove it if it does\n",
    "    if os.path.isfile(old_file_path):\n",
    "        os.remove(old_file_path)\n",
    "        print(f\"Removed existing file: {old_file_path}\")\n",
    "    \n",
    "    # Rename the new file to the old file name\n",
    "    os.rename(new_file_path, old_file_path)\n",
    "    print(f\"Renamed {new_file_path} to {old_file_path}\")"
   ]
  },
  {
   "cell_type": "markdown",
   "metadata": {},
   "source": [
    "## kma"
   ]
  },
  {
   "cell_type": "code",
   "execution_count": 3,
   "metadata": {},
   "outputs": [],
   "source": [
    "kma_new_file_path = p_data + \"/sites/\"+site_name+\"/ESTELA/pred_SLP/kma_modify_kma_addstorms.nc\"\n",
    "kma_old_file_path = p_data + \"/sites/\"+site_name+\"/ESTELA/pred_SLP/kma.nc\"\n"
   ]
  },
  {
   "cell_type": "code",
   "execution_count": 4,
   "metadata": {},
   "outputs": [
    {
     "name": "stdout",
     "output_type": "stream",
     "text": [
      "Removed existing file: C:/Users/fergusonpc/Teslakit-SF-Final/sites/SF/ESTELA/pred_SLP/kma.nc\n",
      "Renamed C:/Users/fergusonpc/Teslakit-SF-Final/sites/SF/ESTELA/pred_SLP/kma_modify_kma_addstorms.nc to C:/Users/fergusonpc/Teslakit-SF-Final/sites/SF/ESTELA/pred_SLP/kma.nc\n"
     ]
    }
   ],
   "source": [
    "Rename_Data_File(kma_new_file_path,kma_old_file_path)"
   ]
  },
  {
   "cell_type": "markdown",
   "metadata": {},
   "source": [
    "## data"
   ]
  },
  {
   "cell_type": "code",
   "execution_count": 5,
   "metadata": {},
   "outputs": [],
   "source": [
    "data_new_file_path = p_data + \"/sites/\"+site_name+\"/ESTELA/pred_SLP/data_modify_kma_addstorms.nc\"\n",
    "data_old_file_path = p_data + \"/sites/\"+site_name+\"/ESTELA/pred_SLP/data.nc\"\n",
    "data_extra = p_data + \"/sites/\"+site_name+\"/ESTELA/pred_SLP/data_kma_regression_guided.nc\""
   ]
  },
  {
   "cell_type": "code",
   "execution_count": 6,
   "metadata": {},
   "outputs": [
    {
     "name": "stdout",
     "output_type": "stream",
     "text": [
      "Removed existing file: C:/Users/fergusonpc/Teslakit-SF-Final/sites/SF/ESTELA/pred_SLP/data.nc\n",
      "Renamed C:/Users/fergusonpc/Teslakit-SF-Final/sites/SF/ESTELA/pred_SLP/data_modify_kma_addstorms.nc to C:/Users/fergusonpc/Teslakit-SF-Final/sites/SF/ESTELA/pred_SLP/data.nc\n"
     ]
    }
   ],
   "source": [
    "Rename_Data_File(data_new_file_path,data_old_file_path)\n",
    "os.remove(data_extra)"
   ]
  },
  {
   "cell_type": "markdown",
   "metadata": {},
   "source": [
    "## pca"
   ]
  },
  {
   "cell_type": "code",
   "execution_count": 7,
   "metadata": {},
   "outputs": [],
   "source": [
    "pca_new_file_path = p_data + \"/sites/\"+site_name+\"/ESTELA/pred_SLP/pca_modify_kma_addstorms.nc\"\n",
    "pca_old_file_path = p_data + \"/sites/\"+site_name+\"/ESTELA/pred_SLP/pca.nc\"\n",
    "pca_extra = p_data + \"/sites/\"+site_name+\"/ESTELA/pred_SLP/pca_kma_regression_guided.nc\""
   ]
  },
  {
   "cell_type": "code",
   "execution_count": 8,
   "metadata": {},
   "outputs": [
    {
     "name": "stdout",
     "output_type": "stream",
     "text": [
      "Removed existing file: C:/Users/fergusonpc/Teslakit-SF-Final/sites/SF/ESTELA/pred_SLP/pca.nc\n",
      "Renamed C:/Users/fergusonpc/Teslakit-SF-Final/sites/SF/ESTELA/pred_SLP/pca_modify_kma_addstorms.nc to C:/Users/fergusonpc/Teslakit-SF-Final/sites/SF/ESTELA/pred_SLP/pca.nc\n"
     ]
    }
   ],
   "source": [
    "Rename_Data_File(pca_new_file_path,pca_old_file_path)\n",
    "os.remove(pca_extra)"
   ]
  },
  {
   "cell_type": "code",
   "execution_count": null,
   "metadata": {},
   "outputs": [],
   "source": []
  }
 ],
 "metadata": {
  "kernelspec": {
   "display_name": "Python 3",
   "language": "python",
   "name": "python3"
  },
  "language_info": {
   "codemirror_mode": {
    "name": "ipython",
    "version": 3
   },
   "file_extension": ".py",
   "mimetype": "text/x-python",
   "name": "python",
   "nbconvert_exporter": "python",
   "pygments_lexer": "ipython3",
   "version": "3.7.12"
  }
 },
 "nbformat": 4,
 "nbformat_minor": 2
}
