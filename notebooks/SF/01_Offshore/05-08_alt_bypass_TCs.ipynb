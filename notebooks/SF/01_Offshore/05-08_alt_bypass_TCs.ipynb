{
 "cells": [
  {
   "cell_type": "markdown",
   "metadata": {},
   "source": [
    "To summarize the TC simulation process in TESLA: In notebooks 5-6 you go through the process of extracting historic or synthetic (Nakajo) TC tracks around your site and  performing MDA on these data sets. After performing vortex and SWAN modeling on your MDA TCs, you build and test a radial basis function to simulate TC outputs from new TC inputs in notebooks 7 and 8. \n",
    "\n",
    "For sites in Cascadia, TCs are not a relevant forcing. However, to avoid changing the infrastructure of TESLA, we want to create empty TC datasets that will allow us to bypass the steps of simulating TCs and essentially tell our simulation that TCs never occur."
   ]
  },
  {
   "cell_type": "markdown",
   "metadata": {},
   "source": [
    "#### Here are the files we need to create (are called in later notebooks):\n",
    "\n",
    "##### in notebook 9 and 10: \n",
    "\n",
    " - TCs_hist_r1.nc and TCs_hist_r1_params.nc\n",
    " \n",
    "    - _, TCs_r1_params = db.Load_TCs_r1_hist()   # TCs historical parameters inside big radius\n",
    "    \n",
    "\n",
    " - TCs_hist_r2.nc and TCs_hist_r2_params.nc\n",
    " \n",
    "    - _, TCs_r2_params = db.Load_TCs_r2_hist()   # TCs historical parameters inside small radius\n",
    "    \n",
    "\n",
    "but rather than creating these files we just modify the notebooks by commenting out certain lines. \n",
    "\n",
    "##### in notebook 12:\n",
    "\n",
    " - TCs_sim_r2_params.nc\n",
    " \n",
    "    - TCs_params = db.Load_TCs_r2_sim_params()    # TCs parameters (copula generated) \n",
    "    \n",
    "\n",
    " - TCs_sim_r2_RBF_output.nc\n",
    " \n",
    "    - TCs_RBFs = db.Load_TCs_sim_r2_rbf_output()  # TCs numerical_IH-RBFs_interpolation output\n",
    "    \n",
    "\n",
    " - TCs_synth_ProbsChange.nc\n",
    " \n",
    "    - probs_TCs =  db.Load_TCs_probs_synth()      # TCs synthetic probabilities\n",
    "    \n",
    "\n",
    "\n"
   ]
  },
  {
   "cell_type": "code",
   "execution_count": 1,
   "metadata": {},
   "outputs": [],
   "source": [
    "#!/usr/bin/env python\n",
    "# -*- coding: utf-8 -*-\n",
    "\n",
    "# common\n",
    "import os\n",
    "import os.path as op\n",
    "\n",
    "# for user inputs\n",
    "import tkinter as tk\n",
    "from tkinter import filedialog\n",
    "from tkinter import simpledialog\n",
    "\n",
    "# pip\n",
    "import numpy as np\n",
    "import xarray as xr\n",
    "\n",
    "# for input configuration\n",
    "import sys\n",
    "sys.path.append('../../..')  # Appending parent directory to Python path\n",
    "from input_configuration import *\n",
    "\n",
    "# DEV: override installed teslakit\n",
    "import sys\n",
    "sys.path.insert(0, op.join(os.path.abspath(''), '..', '..', '..'))\n",
    "\n",
    "# teslakit\n",
    "from teslakit.database import Database"
   ]
  },
  {
   "cell_type": "code",
   "execution_count": 2,
   "metadata": {},
   "outputs": [
    {
     "name": "stdout",
     "output_type": "stream",
     "text": [
      "Teslakit Site already exists at C:/Users/fergusonpc/OneDrive - CDM Smith/Trinnex/CSDP/Teslakit-SF/Teslakit-SF-OG/Teslakit-SF\\sites\\SF\n"
     ]
    }
   ],
   "source": [
    "# Teslakit database\n",
    "\n",
    "p_data = p_data_input\n",
    "db = Database(p_data)\n",
    "\n",
    "# make a new site\n",
    "db.MakeNewSite(site_name)"
   ]
  },
  {
   "cell_type": "markdown",
   "metadata": {},
   "source": [
    "### create and save TCs_hist_r1.nc, TCs_sim_r1_params.nc, TCs_hist_r2.nc, and TCs_sim_r2_params.nc"
   ]
  },
  {
   "cell_type": "code",
   "execution_count": 3,
   "metadata": {},
   "outputs": [
    {
     "name": "stdout",
     "output_type": "stream",
     "text": [
      "<xarray.Dataset>\n",
      "Dimensions:        (delta: 0, gamma: 0, pressure_mean: 0, pressure_min: 0, storm: 0, velocity_mean: 0)\n",
      "Coordinates:\n",
      "  * pressure_mean  (pressure_mean) float64 \n",
      "  * pressure_min   (pressure_min) float64 \n",
      "  * gamma          (gamma) float64 \n",
      "  * delta          (delta) float64 \n",
      "  * velocity_mean  (velocity_mean) float64 \n",
      "  * storm          (storm) float64 \n",
      "Data variables:\n",
      "    *empty*\n"
     ]
    }
   ],
   "source": [
    "output = []\n",
    "\n",
    "TCs_r1_tracks = xr.Dataset({'storm':output})\n",
    "\n",
    "TCs_r1_params = xr.Dataset(\n",
    "        {\n",
    "            'pressure_min':(output),\n",
    "            'pressure_mean':(output),\n",
    "            'velocity_mean':(output),\n",
    "            'gamma':(output),\n",
    "            'delta':(output),\n",
    "            'category':(output),\n",
    "            'dmin_date':(output),\n",
    "            'last_date':(output),\n",
    "            'index_in':(output),\n",
    "            'index_out':(output),\n",
    "            'storm': (output)\n",
    "        },\n",
    "    )\n",
    "\n",
    "TCs_r2_tracks = TCs_r1_tracks\n",
    "TCs_r2_params = TCs_r2_tracks\n",
    "\n",
    "# store data\n",
    "db.Save_TCs_r1_hist(TCs_r1_tracks, TCs_r1_params)\n",
    "db.Save_TCs_r2_hist(TCs_r2_tracks, TCs_r2_params)\n",
    "\n",
    "\n",
    "TCs_r2_sim_params = xr.Dataset(\n",
    "    {\n",
    "        'pressure_mean':(output),\n",
    "        'pressure_min':(output),\n",
    "        'gamma':(output),\n",
    "        'delta':(output),\n",
    "        'velocity_mean':(output),\n",
    "        'storm':(output),    \n",
    "    },\n",
    ")\n",
    "\n",
    "\n",
    "print(TCs_r2_sim_params)\n",
    "\n",
    "db.Save_TCs_r2_sim_params(TCs_r2_sim_params)\n"
   ]
  },
  {
   "cell_type": "markdown",
   "metadata": {},
   "source": [
    "### create and save TCs_sim_r2_RBF_output.nc"
   ]
  },
  {
   "cell_type": "code",
   "execution_count": 4,
   "metadata": {},
   "outputs": [
    {
     "name": "stdout",
     "output_type": "stream",
     "text": [
      "<xarray.Dataset>\n",
      "Dimensions:     (dir: 0, hs: 0, mu: 0, ss: 0, storm: 0, tp: 0, twl: 0, wind_dir: 0, wind_speed: 0)\n",
      "Coordinates:\n",
      "  * hs          (hs) float64 \n",
      "  * tp          (tp) float64 \n",
      "  * ss          (ss) float64 \n",
      "  * twl         (twl) float64 \n",
      "  * dir         (dir) float64 \n",
      "  * mu          (mu) float64 \n",
      "  * wind_speed  (wind_speed) float64 \n",
      "  * wind_dir    (wind_dir) float64 \n",
      "  * storm       (storm) float64 \n",
      "Data variables:\n",
      "    *empty*\n"
     ]
    }
   ],
   "source": [
    "\n",
    "TCs_RBF_out = xr.Dataset(\n",
    "    {\n",
    "        'hs':(output),\n",
    "        'tp':(output),\n",
    "        'ss':(output),\n",
    "        'twl':(output),\n",
    "        'dir':(output),\n",
    "        'mu':(output) ,\n",
    "        'wind_speed':(output) ,\n",
    "        'wind_dir':(output),\n",
    "        'storm':(output)\n",
    "    },\n",
    ")\n",
    "print(TCs_RBF_out)\n",
    "\n",
    "# store data as xarray.Dataset\n",
    "db.Save_TCs_sim_r2_rbf_output(TCs_RBF_out)\n"
   ]
  },
  {
   "cell_type": "markdown",
   "metadata": {},
   "source": [
    "### create and save TCs_synth_ProbsChange.nc"
   ]
  },
  {
   "cell_type": "code",
   "execution_count": 5,
   "metadata": {},
   "outputs": [
    {
     "name": "stdout",
     "output_type": "stream",
     "text": [
      "<xarray.Dataset>\n",
      "Dimensions:                  (category: 6)\n",
      "Coordinates:\n",
      "  * category                 (category) int32 0 1 2 3 4 5\n",
      "Data variables:\n",
      "    category_change_count    (category, category) float64 nan nan ... nan nan\n",
      "    category_change_probs    (category, category) float64 nan nan ... nan nan\n",
      "    category_nochange_probs  (category) float64 nan nan nan nan nan nan\n",
      "    category_change_cumsum   (category, category) float64 nan nan ... nan nan\n"
     ]
    }
   ],
   "source": [
    "category = [0,1,2,3,4,5]\n",
    "m_count = np.empty((6,6))\n",
    "m_count[:] = np.nan\n",
    "\n",
    "categ_cp = xr.Dataset(\n",
    "        {\n",
    "            'category_change_count': (('category','category'), m_count[:,:]),\n",
    "            'category_change_probs': (('category','category'), m_count[:,:]),\n",
    "            'category_nochange_probs': (('category'), m_count[-1,:]),\n",
    "            'category_change_cumsum': (('category','category'), m_count[:,:]),\n",
    "        },\n",
    "        coords = {\n",
    "            'category': category\n",
    "        }\n",
    "    )\n",
    "print(categ_cp)\n",
    "\n",
    "db.Save_TCs_probs_synth(categ_cp)"
   ]
  }
 ],
 "metadata": {
  "kernelspec": {
   "display_name": "Python 3",
   "language": "python",
   "name": "python3"
  },
  "language_info": {
   "codemirror_mode": {
    "name": "ipython",
    "version": 3
   },
   "file_extension": ".py",
   "mimetype": "text/x-python",
   "name": "python",
   "nbconvert_exporter": "python",
   "pygments_lexer": "ipython3",
   "version": "3.7.12"
  }
 },
 "nbformat": 4,
 "nbformat_minor": 2
}
